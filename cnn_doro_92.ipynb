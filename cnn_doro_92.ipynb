{
 "cells": [
  {
   "cell_type": "markdown",
   "id": "401f0204",
   "metadata": {},
   "source": [
    " "
   ]
  },
  {
   "cell_type": "markdown",
   "id": "e6ccf4b8",
   "metadata": {},
   "source": [
    "## 이미지 증식 -> 낮밤으로 구분하기 위하여 명도 조절"
   ]
  },
  {
   "cell_type": "code",
   "execution_count": 1,
   "id": "32b26fc9",
   "metadata": {},
   "outputs": [],
   "source": [
    "import os\n",
    "import glob\n",
    "import numpy as np\n",
    "\n",
    "path = './doro/'\n",
    "full_names = os.listdir(path)\n",
    "labels = sorted([each.split('.')[0] for each in full_names])"
   ]
  },
  {
   "cell_type": "code",
   "execution_count": 4,
   "id": "11489031",
   "metadata": {},
   "outputs": [
    {
     "data": {
      "application/vnd.jupyter.widget-view+json": {
       "model_id": "95cf180103ba40c7be2a53258874059f",
       "version_major": 2,
       "version_minor": 0
      },
      "text/plain": [
       "  0%|          | 0/244 [00:00<?, ?it/s]"
      ]
     },
     "metadata": {},
     "output_type": "display_data"
    }
   ],
   "source": [
    "from tqdm.notebook import tqdm #진행도 확인\n",
    "from numpy import expand_dims\n",
    "from keras.preprocessing.image import load_img\n",
    "from keras.preprocessing.image import img_to_array\n",
    "from keras.preprocessing.image import ImageDataGenerator\n",
    "import cv2\n",
    "\n",
    "os.mkdir('./doro_image') #증식 사진 저장할 폴더 만들기\n",
    "\n",
    "range_ = tqdm(labels)\n",
    "for dir_num in range_:\n",
    "    # 이미지 로드\n",
    "    img = load_img(\"./doro/{}.png\".format(dir_num))\n",
    "    # 배열로 변환\n",
    "    data = img_to_array(img)\n",
    "    # 차원추가 sample 1\n",
    "    samples = expand_dims(data, 0)\n",
    "    # 이미지 데이터 증식\n",
    "    datagen = ImageDataGenerator(\n",
    "        brightness_range=[0.4, 1.5], #밝기 조절\n",
    "        zoom_range=[0.3, 0.5]) #줌 범위 30~50\n",
    "#         rotation_range=20, #회전각도 20 이내\n",
    "#         height_shift_range=0.2,\n",
    "#         width_shift_range=0.2) #이동 범위 20\n",
    "    # prepare iterator\n",
    "    it = datagen.flow(samples, batch_size=1)\n",
    "    os.mkdir('./doro_image/{}'.format(dir_num))\n",
    "\n",
    "    for i in range(10): #각 이미지당 10장씩 증식\n",
    "        batch = it.next()\n",
    "        image = batch[0].astype(\"uint8\")\n",
    "        # rgb 변환\n",
    "        b, g, r = cv2.split(image)\n",
    "        img_astro3_rgb = cv2.merge([r, g, b])\n",
    "        cv2.imwrite(\"./doro_image/{}/{}_{}.png\".format(dir_num,\n",
    "                                                          dir_num, i), img_astro3_rgb)"
   ]
  },
  {
   "cell_type": "code",
   "execution_count": 5,
   "id": "1e01d5e6",
   "metadata": {},
   "outputs": [
    {
     "name": "stdout",
     "output_type": "stream",
     "text": [
      "carroad_1  파일 길이 :  10\n",
      "carroad_102  파일 길이 :  10\n",
      "carroad_103  파일 길이 :  10\n",
      "carroad_1052  파일 길이 :  10\n",
      "carroad_106  파일 길이 :  10\n",
      "carroad_107  파일 길이 :  10\n",
      "carroad_1073  파일 길이 :  10\n",
      "carroad_1076  파일 길이 :  10\n",
      "carroad_1077  파일 길이 :  10\n",
      "carroad_1088  파일 길이 :  10\n",
      "carroad_1089  파일 길이 :  10\n",
      "carroad_110  파일 길이 :  10\n",
      "carroad_1108  파일 길이 :  10\n",
      "carroad_1109  파일 길이 :  10\n",
      "carroad_1112  파일 길이 :  10\n",
      "carroad_1113  파일 길이 :  10\n",
      "carroad_1116  파일 길이 :  10\n",
      "carroad_1117  파일 길이 :  10\n",
      "carroad_1128  파일 길이 :  10\n",
      "carroad_1201  파일 길이 :  10\n",
      "carroad_125  파일 길이 :  10\n",
      "carroad_130  파일 길이 :  10\n",
      "carroad_133  파일 길이 :  10\n",
      "carroad_141  파일 길이 :  10\n",
      "carroad_153  파일 길이 :  10\n",
      "carroad_2  파일 길이 :  10\n",
      "carroad_3  파일 길이 :  10\n",
      "carroad_33  파일 길이 :  10\n",
      "carroad_34  파일 길이 :  10\n",
      "carroad_37  파일 길이 :  10\n",
      "carroad_38  파일 길이 :  10\n",
      "carroad_4  파일 길이 :  10\n",
      "carroad_41  파일 길이 :  10\n",
      "carroad_42  파일 길이 :  10\n",
      "carroad_45  파일 길이 :  10\n",
      "carroad_46  파일 길이 :  10\n",
      "carroad_49  파일 길이 :  10\n",
      "carroad_5  파일 길이 :  10\n",
      "carroad_50  파일 길이 :  10\n",
      "carroad_53  파일 길이 :  10\n",
      "carroad_54  파일 길이 :  10\n",
      "carroad_573  파일 길이 :  10\n",
      "carroad_574  파일 길이 :  10\n",
      "carroad_577  파일 길이 :  10\n",
      "carroad_578  파일 길이 :  10\n",
      "carroad_597  파일 길이 :  10\n",
      "carroad_598  파일 길이 :  10\n",
      "carroad_6  파일 길이 :  10\n",
      "carroad_601  파일 길이 :  10\n",
      "carroad_602  파일 길이 :  10\n",
      "carroad_605  파일 길이 :  10\n",
      "carroad_606  파일 길이 :  10\n",
      "carroad_609  파일 길이 :  10\n",
      "carroad_610  파일 길이 :  10\n",
      "carroad_613  파일 길이 :  10\n",
      "carroad_614  파일 길이 :  10\n",
      "carroad_617  파일 길이 :  10\n",
      "carroad_618  파일 길이 :  10\n",
      "carroad_621  파일 길이 :  10\n",
      "carroad_622  파일 길이 :  10\n",
      "carroad_625  파일 길이 :  10\n",
      "carroad_626  파일 길이 :  10\n",
      "carroad_629  파일 길이 :  10\n",
      "carroad_630  파일 길이 :  10\n",
      "carroad_7  파일 길이 :  10\n",
      "carroad_729  파일 길이 :  10\n",
      "carroad_730  파일 길이 :  10\n",
      "carroad_8  파일 길이 :  10\n",
      "carroad_82  파일 길이 :  10\n",
      "carroad_83  파일 길이 :  10\n",
      "carroad_850  파일 길이 :  10\n",
      "carroad_851  파일 길이 :  10\n",
      "carroad_854  파일 길이 :  10\n",
      "carroad_855  파일 길이 :  10\n",
      "carroad_858  파일 길이 :  10\n",
      "carroad_859  파일 길이 :  10\n",
      "carroad_86  파일 길이 :  10\n",
      "carroad_862  파일 길이 :  10\n",
      "carroad_863  파일 길이 :  10\n",
      "carroad_866  파일 길이 :  10\n",
      "carroad_867  파일 길이 :  10\n",
      "carroad_87  파일 길이 :  10\n",
      "carroad_870  파일 길이 :  10\n",
      "carroad_871  파일 길이 :  10\n",
      "carroad_90  파일 길이 :  10\n",
      "carroad_91  파일 길이 :  10\n",
      "carroad_94  파일 길이 :  10\n",
      "carroad_95  파일 길이 :  10\n",
      "carroad_958  파일 길이 :  10\n",
      "carroad_959  파일 길이 :  10\n",
      "carroad_962  파일 길이 :  10\n",
      "carroad_963  파일 길이 :  10\n",
      "carroad_966  파일 길이 :  10\n",
      "carroad_967  파일 길이 :  10\n",
      "carroad_970  파일 길이 :  10\n",
      "carroad_971  파일 길이 :  10\n",
      "carroad_98  파일 길이 :  10\n",
      "carroad_99  파일 길이 :  10\n",
      "ped_100  파일 길이 :  10\n",
      "ped_101  파일 길이 :  10\n",
      "ped_102  파일 길이 :  10\n",
      "ped_103  파일 길이 :  10\n",
      "ped_104  파일 길이 :  10\n",
      "ped_105  파일 길이 :  10\n",
      "ped_106  파일 길이 :  10\n",
      "ped_107  파일 길이 :  10\n",
      "ped_108  파일 길이 :  10\n",
      "ped_109  파일 길이 :  10\n",
      "ped_110  파일 길이 :  10\n",
      "ped_111  파일 길이 :  10\n",
      "ped_112  파일 길이 :  10\n",
      "ped_113  파일 길이 :  10\n",
      "ped_114  파일 길이 :  10\n",
      "ped_115  파일 길이 :  10\n",
      "ped_116  파일 길이 :  10\n",
      "ped_117  파일 길이 :  10\n",
      "ped_118  파일 길이 :  10\n",
      "ped_119  파일 길이 :  10\n",
      "ped_12  파일 길이 :  10\n",
      "ped_120  파일 길이 :  10\n",
      "ped_121  파일 길이 :  10\n",
      "ped_122  파일 길이 :  10\n",
      "ped_123  파일 길이 :  10\n",
      "ped_124  파일 길이 :  10\n",
      "ped_125  파일 길이 :  10\n",
      "ped_126  파일 길이 :  10\n",
      "ped_127  파일 길이 :  10\n",
      "ped_128  파일 길이 :  10\n",
      "ped_129  파일 길이 :  10\n",
      "ped_13  파일 길이 :  10\n",
      "ped_130  파일 길이 :  10\n",
      "ped_131  파일 길이 :  10\n",
      "ped_132  파일 길이 :  10\n",
      "ped_133  파일 길이 :  10\n",
      "ped_134  파일 길이 :  10\n",
      "ped_135  파일 길이 :  10\n",
      "ped_136  파일 길이 :  10\n",
      "ped_137  파일 길이 :  10\n",
      "ped_138  파일 길이 :  10\n",
      "ped_139  파일 길이 :  10\n",
      "ped_14  파일 길이 :  10\n",
      "ped_140  파일 길이 :  10\n",
      "ped_141  파일 길이 :  10\n",
      "ped_142  파일 길이 :  10\n",
      "ped_143  파일 길이 :  10\n",
      "ped_144  파일 길이 :  10\n",
      "ped_145  파일 길이 :  10\n",
      "ped_146  파일 길이 :  10\n",
      "ped_147  파일 길이 :  10\n",
      "ped_148  파일 길이 :  10\n",
      "ped_149  파일 길이 :  10\n",
      "ped_15  파일 길이 :  10\n",
      "ped_150  파일 길이 :  10\n",
      "ped_151  파일 길이 :  10\n",
      "ped_152  파일 길이 :  10\n",
      "ped_153  파일 길이 :  10\n",
      "ped_154  파일 길이 :  10\n",
      "ped_155  파일 길이 :  10\n",
      "ped_156  파일 길이 :  10\n",
      "ped_157  파일 길이 :  10\n",
      "ped_158  파일 길이 :  10\n",
      "ped_159  파일 길이 :  10\n",
      "ped_16  파일 길이 :  10\n",
      "ped_160  파일 길이 :  10\n",
      "ped_161  파일 길이 :  10\n",
      "ped_162  파일 길이 :  10\n",
      "ped_17  파일 길이 :  10\n",
      "ped_18  파일 길이 :  10\n",
      "ped_19  파일 길이 :  10\n",
      "ped_2  파일 길이 :  10\n",
      "ped_20  파일 길이 :  10\n",
      "ped_21  파일 길이 :  10\n",
      "ped_22  파일 길이 :  10\n",
      "ped_23  파일 길이 :  10\n",
      "ped_24  파일 길이 :  10\n",
      "ped_25  파일 길이 :  10\n",
      "ped_26  파일 길이 :  10\n",
      "ped_27  파일 길이 :  10\n",
      "ped_28  파일 길이 :  10\n",
      "ped_29  파일 길이 :  10\n",
      "ped_3  파일 길이 :  10\n",
      "ped_30  파일 길이 :  10\n",
      "ped_31  파일 길이 :  10\n",
      "ped_32  파일 길이 :  10\n",
      "ped_33  파일 길이 :  10\n",
      "ped_34  파일 길이 :  10\n",
      "ped_35  파일 길이 :  10\n",
      "ped_36  파일 길이 :  10\n",
      "ped_37  파일 길이 :  10\n",
      "ped_38  파일 길이 :  10\n",
      "ped_39  파일 길이 :  10\n",
      "ped_4  파일 길이 :  10\n",
      "ped_40  파일 길이 :  10\n",
      "ped_41  파일 길이 :  10\n",
      "ped_42  파일 길이 :  10\n",
      "ped_43  파일 길이 :  10\n",
      "ped_44  파일 길이 :  10\n",
      "ped_45  파일 길이 :  10\n",
      "ped_46  파일 길이 :  10\n",
      "ped_47  파일 길이 :  10\n",
      "ped_48  파일 길이 :  10\n",
      "ped_49  파일 길이 :  10\n",
      "ped_5  파일 길이 :  10\n",
      "ped_50  파일 길이 :  10\n",
      "ped_51  파일 길이 :  10\n",
      "ped_52  파일 길이 :  10\n",
      "ped_53  파일 길이 :  10\n",
      "ped_54  파일 길이 :  10\n",
      "ped_55  파일 길이 :  10\n",
      "ped_56  파일 길이 :  10\n",
      "ped_57  파일 길이 :  10\n",
      "ped_59  파일 길이 :  10\n",
      "ped_6  파일 길이 :  10\n",
      "ped_60  파일 길이 :  10\n",
      "ped_63  파일 길이 :  10\n",
      "ped_64  파일 길이 :  10\n",
      "ped_7  파일 길이 :  10\n",
      "ped_73  파일 길이 :  10\n",
      "ped_74  파일 길이 :  10\n",
      "ped_75  파일 길이 :  10\n",
      "ped_76  파일 길이 :  10\n",
      "ped_77  파일 길이 :  10\n",
      "ped_78  파일 길이 :  10\n",
      "ped_79  파일 길이 :  10\n",
      "ped_80  파일 길이 :  10\n",
      "ped_81  파일 길이 :  10\n",
      "ped_82  파일 길이 :  10\n",
      "ped_83  파일 길이 :  10\n",
      "ped_84  파일 길이 :  10\n",
      "ped_85  파일 길이 :  10\n",
      "ped_86  파일 길이 :  10\n",
      "ped_87  파일 길이 :  10\n",
      "ped_88  파일 길이 :  10\n",
      "ped_89  파일 길이 :  10\n",
      "ped_90  파일 길이 :  10\n",
      "ped_91  파일 길이 :  10\n",
      "ped_92  파일 길이 :  10\n",
      "ped_93  파일 길이 :  10\n",
      "ped_94  파일 길이 :  10\n",
      "ped_95  파일 길이 :  10\n",
      "ped_96  파일 길이 :  10\n",
      "ped_97  파일 길이 :  10\n",
      "ped_98  파일 길이 :  10\n",
      "ped_99  파일 길이 :  10\n"
     ]
    }
   ],
   "source": [
    "from PIL import Image\n",
    "import os\n",
    "import glob\n",
    "import numpy as np\n",
    "from sklearn.model_selection import train_test_split\n",
    "\n",
    "caltech_dir = \"./doro_image/\"\n",
    "categories = labels\n",
    "nb_classes = len(labels)\n",
    "\n",
    "image_w = 64\n",
    "image_h = 64\n",
    "\n",
    "X = []\n",
    "y = []\n",
    "\n",
    "for idx, cat in enumerate(categories):\n",
    "\n",
    "    #   one-hot 돌리기.\n",
    "    label = [0 for i in range(nb_classes)]\n",
    "    label[idx] = 1\n",
    "\n",
    "    image_dir = caltech_dir + \"/\" + str(cat)\n",
    "    files = glob.glob(image_dir+\"/*.png\")\n",
    "    #print(cat, \" 파일 길이 : \", len(files))\n",
    "    # 이미지 파일을 64 x 64 로 줄이고, 벡터화 시켜 X에 저장, one-hot-encoding된 라벨도 저장\n",
    "    for i, f in enumerate(files):\n",
    "        img = Image.open(f)\n",
    "        img = img.convert(\"RGB\")\n",
    "        img = img.resize((image_w, image_h))\n",
    "        data = np.asarray(img)\n",
    "\n",
    "        X.append(data)\n",
    "        y.append(label)\n",
    "\n",
    "X = np.array(X)\n",
    "y = np.array(y)"
   ]
  },
  {
   "cell_type": "code",
   "execution_count": 6,
   "id": "3887b235",
   "metadata": {},
   "outputs": [],
   "source": [
    "X_train, X_test, y_train, y_test = train_test_split(X, y)\n",
    "xy = (X_train, X_test, y_train, y_test)"
   ]
  },
  {
   "cell_type": "code",
   "execution_count": 7,
   "id": "79a425eb",
   "metadata": {},
   "outputs": [
    {
     "data": {
      "text/plain": [
       "(1830, 64, 64, 3)"
      ]
     },
     "execution_count": 7,
     "metadata": {},
     "output_type": "execute_result"
    }
   ],
   "source": [
    "X_train.shape"
   ]
  },
  {
   "cell_type": "code",
   "execution_count": 8,
   "id": "d980b161",
   "metadata": {},
   "outputs": [
    {
     "data": {
      "text/plain": [
       "(446520, 1)"
      ]
     },
     "execution_count": 8,
     "metadata": {},
     "output_type": "execute_result"
    }
   ],
   "source": [
    "y_train_test = y_train.reshape(-1,1)\n",
    "y_train_test.shape"
   ]
  },
  {
   "cell_type": "code",
   "execution_count": 9,
   "id": "d41fd976",
   "metadata": {
    "scrolled": true
   },
   "outputs": [
    {
     "data": {
      "text/plain": [
       "(1830, 244)"
      ]
     },
     "execution_count": 9,
     "metadata": {},
     "output_type": "execute_result"
    }
   ],
   "source": [
    "y_train.shape"
   ]
  },
  {
   "cell_type": "code",
   "execution_count": null,
   "id": "0d748da3",
   "metadata": {},
   "outputs": [],
   "source": []
  },
  {
   "cell_type": "code",
   "execution_count": 10,
   "id": "fe4161c0",
   "metadata": {},
   "outputs": [],
   "source": [
    "## 행렬을 피클로 저장\n",
    "import pickle \n",
    "pickle.dump(xy, open(\"./model/multi_image_data.npy\", 'wb'), protocol=4)"
   ]
  },
  {
   "cell_type": "code",
   "execution_count": 11,
   "id": "75c80e25",
   "metadata": {},
   "outputs": [],
   "source": [
    "import numpy as np"
   ]
  },
  {
   "cell_type": "code",
   "execution_count": 12,
   "id": "2a1cacff",
   "metadata": {},
   "outputs": [],
   "source": [
    "#넘파이 파일 불러오기\n",
    "X_train, X_test, y_train, y_test = np.load('./model/multi_image_data.npy',allow_pickle=True)"
   ]
  },
  {
   "cell_type": "code",
   "execution_count": 13,
   "id": "762b398c",
   "metadata": {},
   "outputs": [
    {
     "data": {
      "text/plain": [
       "(1830, 244)"
      ]
     },
     "execution_count": 13,
     "metadata": {},
     "output_type": "execute_result"
    }
   ],
   "source": [
    "X_train.shape #(10327, 64, 64, 3)\n",
    "y_train.shape #(10327, 1377)"
   ]
  },
  {
   "cell_type": "code",
   "execution_count": null,
   "id": "b2c3a5d5",
   "metadata": {},
   "outputs": [],
   "source": []
  },
  {
   "cell_type": "code",
   "execution_count": 14,
   "id": "d64df490",
   "metadata": {},
   "outputs": [],
   "source": [
    "## 정규화\n",
    "X_train = X_train.astype(float) / 255\n",
    "X_test = X_test.astype(float) / 255"
   ]
  },
  {
   "cell_type": "code",
   "execution_count": 18,
   "id": "dc23832a",
   "metadata": {},
   "outputs": [],
   "source": [
    "## 모델링\n",
    "import os\n",
    "import glob\n",
    "import numpy as np\n",
    "from keras.models import Sequential\n",
    "from keras.layers import Conv2D, MaxPooling2D, Dense, Flatten, Dropout\n",
    "from keras.callbacks import EarlyStopping, ModelCheckpoint\n",
    "from keras.layers import BatchNormalization\n",
    "import matplotlib.pyplot as plt\n",
    "# import keras.backend.tensorflow_backend as K\n",
    "# from keras import backend as K #-> gpu 사용시 import / gpu를 구분하여 사용하기 어려우니 비권장\n",
    "\n",
    "nb_classes = len(labels)\n",
    "\n",
    "model = Sequential()\n",
    "\n",
    "model.add(Conv2D(32, (3, 3), padding=\"same\",\n",
    "                 input_shape=X_train.shape[1:], activation='relu'))\n",
    "model.add(MaxPooling2D(pool_size=(2, 2)))\n",
    "# model.add(Dropout(0.25))\n",
    "\n",
    "model.add(Conv2D(64, (3, 3), padding=\"same\", activation='relu'))\n",
    "model.add(MaxPooling2D(pool_size=(2, 2)))\n",
    "# model.add(Dropout(0.25))\n",
    "\n",
    "model.add(Conv2D(128, (3, 3), padding=\"same\", activation='relu'))\n",
    "model.add(MaxPooling2D(pool_size=(2, 2)))\n",
    "# model.add(Dropout(0.25))\n",
    "\n",
    "model.add(Flatten())\n",
    "model.add(Dense(256, activation='relu'))\n",
    "# model.add(Dropout(0.5))\n",
    "model.add(Dense(nb_classes, activation='softmax'))\n",
    "\n",
    "# 학습\n",
    "model.compile(loss='categorical_crossentropy',\n",
    "              optimizer='adam', metrics=['accuracy'])\n",
    "model_dir = './model'\n",
    "\n",
    "if not os.path.exists(model_dir):\n",
    "    os.mkdir(model_dir)\n",
    "\n",
    "model_path = model_dir + '/multi_img_classification.model'\n",
    "checkpoint = ModelCheckpoint(\n",
    "    filepath=model_path, monitor='val_loss', verbose=1, save_best_only=True)\n",
    "early_stopping = EarlyStopping(monitor='val_loss', patience=6)\n",
    "\n",
    "\n",
    "# dropout 제거\n",
    "# batch_size 수정\n",
    "# epochs 증대"
   ]
  },
  {
   "cell_type": "code",
   "execution_count": 19,
   "id": "cec037c6",
   "metadata": {},
   "outputs": [
    {
     "name": "stdout",
     "output_type": "stream",
     "text": [
      "Model: \"sequential_1\"\n",
      "_________________________________________________________________\n",
      " Layer (type)                Output Shape              Param #   \n",
      "=================================================================\n",
      " conv2d_3 (Conv2D)           (None, 64, 64, 32)        896       \n",
      "                                                                 \n",
      " max_pooling2d_3 (MaxPooling  (None, 32, 32, 32)       0         \n",
      " 2D)                                                             \n",
      "                                                                 \n",
      " conv2d_4 (Conv2D)           (None, 32, 32, 64)        18496     \n",
      "                                                                 \n",
      " max_pooling2d_4 (MaxPooling  (None, 16, 16, 64)       0         \n",
      " 2D)                                                             \n",
      "                                                                 \n",
      " conv2d_5 (Conv2D)           (None, 16, 16, 128)       73856     \n",
      "                                                                 \n",
      " max_pooling2d_5 (MaxPooling  (None, 8, 8, 128)        0         \n",
      " 2D)                                                             \n",
      "                                                                 \n",
      " flatten_1 (Flatten)         (None, 8192)              0         \n",
      "                                                                 \n",
      " dense_2 (Dense)             (None, 256)               2097408   \n",
      "                                                                 \n",
      " dense_3 (Dense)             (None, 244)               62708     \n",
      "                                                                 \n",
      "=================================================================\n",
      "Total params: 2,253,364\n",
      "Trainable params: 2,253,364\n",
      "Non-trainable params: 0\n",
      "_________________________________________________________________\n"
     ]
    }
   ],
   "source": [
    "model.summary()"
   ]
  },
  {
   "cell_type": "code",
   "execution_count": 20,
   "id": "4da9e4ff",
   "metadata": {},
   "outputs": [
    {
     "name": "stdout",
     "output_type": "stream",
     "text": [
      "Epoch 1/50\n",
      "147/147 [==============================] - 14s 83ms/step - loss: 5.5098 - accuracy: 0.0061 - val_loss: 5.5372 - val_accuracy: 0.0027\n",
      "Epoch 2/50\n",
      "147/147 [==============================] - 12s 81ms/step - loss: 5.2968 - accuracy: 0.0348 - val_loss: 4.6595 - val_accuracy: 0.1366\n",
      "Epoch 3/50\n",
      "147/147 [==============================] - 12s 81ms/step - loss: 2.6588 - accuracy: 0.4392 - val_loss: 2.0649 - val_accuracy: 0.5437\n",
      "Epoch 4/50\n",
      "147/147 [==============================] - 12s 82ms/step - loss: 0.9562 - accuracy: 0.7534 - val_loss: 1.1794 - val_accuracy: 0.7322\n",
      "Epoch 5/50\n",
      "147/147 [==============================] - 12s 82ms/step - loss: 0.5774 - accuracy: 0.8477 - val_loss: 0.9509 - val_accuracy: 0.7951\n",
      "Epoch 6/50\n",
      "147/147 [==============================] - 12s 83ms/step - loss: 0.4007 - accuracy: 0.8941 - val_loss: 0.7128 - val_accuracy: 0.8415\n",
      "Epoch 7/50\n",
      "147/147 [==============================] - 12s 82ms/step - loss: 0.2918 - accuracy: 0.9133 - val_loss: 1.0014 - val_accuracy: 0.7842\n",
      "Epoch 8/50\n",
      "147/147 [==============================] - 12s 82ms/step - loss: 0.2370 - accuracy: 0.9351 - val_loss: 0.7535 - val_accuracy: 0.8361\n",
      "Epoch 9/50\n",
      "147/147 [==============================] - 12s 83ms/step - loss: 0.1993 - accuracy: 0.9317 - val_loss: 0.7443 - val_accuracy: 0.8415\n",
      "Epoch 10/50\n",
      "147/147 [==============================] - 12s 81ms/step - loss: 0.1314 - accuracy: 0.9597 - val_loss: 0.7598 - val_accuracy: 0.8552\n",
      "Epoch 11/50\n",
      "147/147 [==============================] - 12s 80ms/step - loss: 0.1676 - accuracy: 0.9508 - val_loss: 0.7030 - val_accuracy: 0.8470\n",
      "Epoch 12/50\n",
      "147/147 [==============================] - 12s 80ms/step - loss: 0.0990 - accuracy: 0.9686 - val_loss: 0.6880 - val_accuracy: 0.8689\n",
      "Epoch 13/50\n",
      "147/147 [==============================] - 12s 81ms/step - loss: 0.1863 - accuracy: 0.9665 - val_loss: 0.7212 - val_accuracy: 0.8579\n",
      "Epoch 14/50\n",
      "147/147 [==============================] - 12s 81ms/step - loss: 0.0851 - accuracy: 0.9720 - val_loss: 0.6002 - val_accuracy: 0.8716\n",
      "Epoch 15/50\n",
      "147/147 [==============================] - 12s 81ms/step - loss: 0.0345 - accuracy: 0.9877 - val_loss: 0.5898 - val_accuracy: 0.8907\n",
      "Epoch 16/50\n",
      "147/147 [==============================] - 12s 81ms/step - loss: 0.0305 - accuracy: 0.9918 - val_loss: 0.5758 - val_accuracy: 0.8743\n",
      "Epoch 17/50\n",
      "147/147 [==============================] - 12s 82ms/step - loss: 0.0290 - accuracy: 0.9904 - val_loss: 0.5956 - val_accuracy: 0.8798\n",
      "Epoch 18/50\n",
      "147/147 [==============================] - 12s 82ms/step - loss: 0.0086 - accuracy: 0.9993 - val_loss: 0.6590 - val_accuracy: 0.8852\n",
      "Epoch 19/50\n",
      "147/147 [==============================] - 12s 82ms/step - loss: 0.0045 - accuracy: 0.9993 - val_loss: 0.6429 - val_accuracy: 0.9044\n",
      "Epoch 20/50\n",
      "147/147 [==============================] - 12s 83ms/step - loss: 0.0188 - accuracy: 0.9939 - val_loss: 0.6421 - val_accuracy: 0.8825\n",
      "Epoch 21/50\n",
      "147/147 [==============================] - 12s 82ms/step - loss: 0.0158 - accuracy: 0.9952 - val_loss: 0.6146 - val_accuracy: 0.8989\n",
      "Epoch 22/50\n",
      "147/147 [==============================] - 12s 81ms/step - loss: 0.1071 - accuracy: 0.9686 - val_loss: 1.1004 - val_accuracy: 0.8251\n",
      "Epoch 23/50\n",
      "147/147 [==============================] - 12s 80ms/step - loss: 0.2383 - accuracy: 0.9474 - val_loss: 0.6836 - val_accuracy: 0.8333\n",
      "Epoch 24/50\n",
      "147/147 [==============================] - 12s 82ms/step - loss: 0.0593 - accuracy: 0.9877 - val_loss: 0.7055 - val_accuracy: 0.8770\n",
      "Epoch 25/50\n",
      "147/147 [==============================] - 12s 83ms/step - loss: 0.0547 - accuracy: 0.9850 - val_loss: 0.6491 - val_accuracy: 0.8825\n",
      "Epoch 26/50\n",
      "147/147 [==============================] - 12s 81ms/step - loss: 0.0200 - accuracy: 0.9939 - val_loss: 1.0877 - val_accuracy: 0.8661\n",
      "Epoch 27/50\n",
      "147/147 [==============================] - 12s 83ms/step - loss: 0.1100 - accuracy: 0.9781 - val_loss: 0.6981 - val_accuracy: 0.8743\n",
      "Epoch 28/50\n",
      "147/147 [==============================] - 12s 81ms/step - loss: 0.0910 - accuracy: 0.9795 - val_loss: 0.9513 - val_accuracy: 0.8197\n",
      "Epoch 29/50\n",
      "147/147 [==============================] - 12s 81ms/step - loss: 0.0861 - accuracy: 0.9809 - val_loss: 0.6762 - val_accuracy: 0.8661\n",
      "Epoch 30/50\n",
      "147/147 [==============================] - 12s 80ms/step - loss: 0.0485 - accuracy: 0.9932 - val_loss: 0.7545 - val_accuracy: 0.8743\n",
      "Epoch 31/50\n",
      "147/147 [==============================] - 12s 81ms/step - loss: 0.0326 - accuracy: 0.9911 - val_loss: 0.6865 - val_accuracy: 0.8852\n",
      "Epoch 32/50\n",
      "147/147 [==============================] - 12s 82ms/step - loss: 0.0208 - accuracy: 0.9939 - val_loss: 0.7196 - val_accuracy: 0.8770\n",
      "Epoch 33/50\n",
      "147/147 [==============================] - 12s 83ms/step - loss: 0.0180 - accuracy: 0.9959 - val_loss: 0.7744 - val_accuracy: 0.8798\n",
      "Epoch 34/50\n",
      "147/147 [==============================] - 12s 82ms/step - loss: 0.0016 - accuracy: 0.9993 - val_loss: 0.6614 - val_accuracy: 0.9071\n",
      "Epoch 35/50\n",
      "147/147 [==============================] - 12s 84ms/step - loss: 0.0017 - accuracy: 0.9993 - val_loss: 0.6385 - val_accuracy: 0.9153\n",
      "Epoch 36/50\n",
      "147/147 [==============================] - 12s 84ms/step - loss: 3.7585e-04 - accuracy: 1.0000 - val_loss: 0.6464 - val_accuracy: 0.9153\n",
      "Epoch 37/50\n",
      "147/147 [==============================] - 12s 83ms/step - loss: 2.3376e-04 - accuracy: 1.0000 - val_loss: 0.6664 - val_accuracy: 0.9153\n",
      "Epoch 38/50\n",
      "147/147 [==============================] - 12s 81ms/step - loss: 1.7566e-04 - accuracy: 1.0000 - val_loss: 0.6811 - val_accuracy: 0.9153\n",
      "Epoch 39/50\n",
      "147/147 [==============================] - 12s 83ms/step - loss: 1.4345e-04 - accuracy: 1.0000 - val_loss: 0.6940 - val_accuracy: 0.9126\n",
      "Epoch 40/50\n",
      "147/147 [==============================] - 13s 85ms/step - loss: 1.2010e-04 - accuracy: 1.0000 - val_loss: 0.7065 - val_accuracy: 0.9126\n",
      "Epoch 41/50\n",
      "147/147 [==============================] - 12s 82ms/step - loss: 1.0229e-04 - accuracy: 1.0000 - val_loss: 0.7188 - val_accuracy: 0.9126\n",
      "Epoch 42/50\n",
      "147/147 [==============================] - 12s 82ms/step - loss: 8.7939e-05 - accuracy: 1.0000 - val_loss: 0.7271 - val_accuracy: 0.9126\n",
      "Epoch 43/50\n",
      "147/147 [==============================] - 12s 82ms/step - loss: 7.4969e-05 - accuracy: 1.0000 - val_loss: 0.7390 - val_accuracy: 0.9098\n",
      "Epoch 44/50\n",
      "147/147 [==============================] - 13s 85ms/step - loss: 6.6477e-05 - accuracy: 1.0000 - val_loss: 0.7475 - val_accuracy: 0.9126\n",
      "Epoch 45/50\n",
      "147/147 [==============================] - 13s 86ms/step - loss: 5.9729e-05 - accuracy: 1.0000 - val_loss: 0.7571 - val_accuracy: 0.9126\n",
      "Epoch 46/50\n",
      "147/147 [==============================] - 13s 90ms/step - loss: 5.1853e-05 - accuracy: 1.0000 - val_loss: 0.7656 - val_accuracy: 0.9126\n",
      "Epoch 47/50\n",
      "147/147 [==============================] - 18s 123ms/step - loss: 4.6432e-05 - accuracy: 1.0000 - val_loss: 0.7735 - val_accuracy: 0.9098\n",
      "Epoch 48/50\n",
      "147/147 [==============================] - 24s 161ms/step - loss: 4.1699e-05 - accuracy: 1.0000 - val_loss: 0.7824 - val_accuracy: 0.9098\n",
      "Epoch 49/50\n",
      "147/147 [==============================] - 22s 152ms/step - loss: 3.7372e-05 - accuracy: 1.0000 - val_loss: 0.7900 - val_accuracy: 0.9098\n",
      "Epoch 50/50\n",
      "147/147 [==============================] - 17s 114ms/step - loss: 3.3737e-05 - accuracy: 1.0000 - val_loss: 0.7983 - val_accuracy: 0.9098\n"
     ]
    }
   ],
   "source": [
    "history = model.fit(X_train, y_train, batch_size=10, epochs=50, validation_split=0.2, callbacks=[checkpoint, early_stopping])"
   ]
  },
  {
   "cell_type": "code",
   "execution_count": 21,
   "id": "15d3d33d",
   "metadata": {},
   "outputs": [
    {
     "data": {
      "image/png": "[encoded data removed]",
      "text/plain": [
       "<Figure size 432x288 with 1 Axes>"
      ]
     },
     "metadata": {
      "needs_background": "light"
     },
     "output_type": "display_data"
    }
   ],
   "source": [
    "plot_target = ['loss', 'val_loss', 'accuracy', 'val_accuracy']\n",
    "for each in plot_target:\n",
    "    plt.plot(history.history[each], label=each)\n",
    "    \n",
    "plt.legend()\n",
    "plt.show()"
   ]
  },
  {
   "cell_type": "code",
   "execution_count": 22,
   "id": "6a110a3a",
   "metadata": {
    "scrolled": true
   },
   "outputs": [
    {
     "name": "stdout",
     "output_type": "stream",
     "text": [
      "20/20 [==============================] - 1s 54ms/step - loss: 0.5610 - accuracy: 0.9213\n"
     ]
    },
    {
     "data": {
      "text/plain": [
       "[0.5610292553901672, 0.9213114976882935]"
      ]
     },
     "execution_count": 22,
     "metadata": {},
     "output_type": "execute_result"
    }
   ],
   "source": [
    "model.evaluate(X_test, y_test)"
   ]
  },
  {
   "cell_type": "code",
   "execution_count": null,
   "id": "d7699d59",
   "metadata": {},
   "outputs": [],
   "source": []
  }
 ],
 "metadata": {
  "kernelspec": {
   "display_name": "Python 3 (ipykernel)",
   "language": "python",
   "name": "python3"
  },
  "language_info": {
   "codemirror_mode": {
    "name": "ipython",
    "version": 3
   },
   "file_extension": ".py",
   "mimetype": "text/x-python",
   "name": "python",
   "nbconvert_exporter": "python",
   "pygments_lexer": "ipython3",
   "version": "3.9.12"
  }
 },
 "nbformat": 4,
 "nbformat_minor": 5
}

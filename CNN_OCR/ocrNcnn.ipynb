{
 "cells": [
  {
   "cell_type": "code",
   "execution_count": 1,
   "id": "d18e1379",
   "metadata": {},
   "outputs": [],
   "source": [
    "# error\n",
    "# prompt -> pip install protobuf==3.20.*"
   ]
  },
  {
   "cell_type": "markdown",
   "id": "7c9d177f",
   "metadata": {},
   "source": [
    "### Import"
   ]
  },
  {
   "cell_type": "code",
   "execution_count": 1,
   "id": "a0985857",
   "metadata": {
    "scrolled": true
   },
   "outputs": [],
   "source": [
    "from tensorflow.keras.models import load_model"
   ]
  },
  {
   "cell_type": "code",
   "execution_count": 2,
   "id": "4101be18",
   "metadata": {},
   "outputs": [],
   "source": [
    "import os\n",
    "import cv2\n",
    "import numpy as np\n",
    "import pandas as pd\n",
    "from glob import glob\n",
    "from tensorflow.keras.preprocessing.image import ImageDataGenerator"
   ]
  },
  {
   "cell_type": "code",
   "execution_count": 3,
   "id": "27856786",
   "metadata": {},
   "outputs": [],
   "source": [
    "from gtts import gTTS\n",
    "from IPython.display import Audio"
   ]
  },
  {
   "cell_type": "code",
   "execution_count": 4,
   "id": "c336bdaf",
   "metadata": {},
   "outputs": [],
   "source": [
    "import os\n",
    "import io\n",
    " \n",
    "import cv2\n",
    "from google.cloud import vision"
   ]
  },
  {
   "cell_type": "markdown",
   "id": "82fa013d",
   "metadata": {},
   "source": [
    "### Define"
   ]
  },
  {
   "cell_type": "code",
   "execution_count": 5,
   "id": "d975b1fb",
   "metadata": {},
   "outputs": [],
   "source": [
    "def sound():\n",
    "    display(Audio('alarm-no3.mp3', autoplay=True))"
   ]
  },
  {
   "cell_type": "code",
   "execution_count": 6,
   "id": "3cfb7a5b",
   "metadata": {},
   "outputs": [],
   "source": [
    "def get_narrator(text):\n",
    "    tts = gTTS(text=text, lang='ko')\n",
    "    filename = 'narrator.mp3'\n",
    "    tts.save(filename)\n",
    "    \n",
    "    display(Audio(filename, autoplay=True))\n",
    "    \n",
    "# get_narrator(\"어린이 보호구역입니다\")"
   ]
  },
  {
   "cell_type": "code",
   "execution_count": 7,
   "id": "e2f612fb",
   "metadata": {},
   "outputs": [],
   "source": [
    "def get_text(path):\n",
    "    result = []\n",
    "    \n",
    "    # Load image\n",
    "    with io.open(path, 'rb') as f:\n",
    "        content = f.read()\n",
    "    \n",
    "    # Get text from image\n",
    "    image = vision.Image(content=content)\n",
    "    response = client.text_detection(image=image)\n",
    "    texts = response.text_annotations\n",
    "    \n",
    "    for text in texts[1:]:\n",
    "        if text.description.isdigit():\n",
    "            if int(text.description) in [x for x in range(20, 90, 10)]:\n",
    "                result.append(text.description)\n",
    "        elif text.description=='어린이':\n",
    "            result.append(text.description)\n",
    "            \n",
    "    return result"
   ]
  },
  {
   "cell_type": "code",
   "execution_count": 8,
   "id": "d0089b33",
   "metadata": {},
   "outputs": [],
   "source": [
    "def predict_road(model):\n",
    "    df = pd.DataFrame({'image_path': glob('capture/*.jpg')})\n",
    "    \n",
    "    test_datagen = ImageDataGenerator(rescale=1/255.)\n",
    "    test_generator = test_datagen.flow_from_dataframe(\n",
    "        df,\n",
    "        x_col='image_path',\n",
    "        y_col='None',\n",
    "        target_size=(250, 250),\n",
    "        class_mode=None,\n",
    "        shuffle=False\n",
    "    )\n",
    "    \n",
    "    pred = model.predict_generator(test_generator)\n",
    "    \n",
    "    return np.argmax(pred, axis=-1)"
   ]
  },
  {
   "cell_type": "code",
   "execution_count": 9,
   "id": "1939d211",
   "metadata": {},
   "outputs": [],
   "source": [
    "def alert_speed_limit(texts):\n",
    "    message = []\n",
    "    digit_boolean = list(map(lambda x: x.isdigit(), texts))\n",
    "    if np.all(digit_boolean):  # 모두 숫자\n",
    "        for text in texts:\n",
    "            message.append(f\"제한속도 시속 {text}km 구간입니다\")\n",
    "    elif np.any(digit_boolean):  # '어린이' 하나 이상 포함\n",
    "        for text in np.array(texts)[digit_boolean]:\n",
    "            message.append(f\"어린이 보호구역입니다. 시속 {text}km로 주행하세요\")\n",
    "    else:\n",
    "        message.append(\"어린이 보호구역입니다\")\n",
    "        \n",
    "    for m in message:\n",
    "        get_narrator(m)"
   ]
  },
  {
   "cell_type": "markdown",
   "id": "afae0c37",
   "metadata": {},
   "source": [
    "### Prepare"
   ]
  },
  {
   "cell_type": "code",
   "execution_count": 10,
   "id": "e929a6b2",
   "metadata": {},
   "outputs": [],
   "source": [
    "# Use google API\n",
    "os.environ['GOOGLE_APPLICATION_CREDENTIALS'] = 'JSON_FILENAME.json'\n",
    " \n",
    "client_options = {'api_endpoint': 'eu-vision.googleapis.com'}\n",
    "client = vision.ImageAnnotatorClient(client_options=client_options)"
   ]
  },
  {
   "cell_type": "code",
   "execution_count": 11,
   "id": "6cd88cb9",
   "metadata": {},
   "outputs": [],
   "source": [
    "# Load model\n",
    "model = load_model('MODEL_NAME.h5')"
   ]
  },
  {
   "cell_type": "code",
   "execution_count": 12,
   "id": "7ea91e24",
   "metadata": {},
   "outputs": [],
   "source": [
    "# Connect Webcam\n",
    "url = \"http://IP_ADDRESS:8080/video\"\n",
    "cap = cv2.VideoCapture(url)\n",
    "\n",
    "fps = cap.get(cv2.CAP_PROP_FPS)  # fps = 25.0"
   ]
  },
  {
   "cell_type": "code",
   "execution_count": 13,
   "id": "56275a07",
   "metadata": {},
   "outputs": [],
   "source": [
    "# Empty capture folder\n",
    "for f in glob('capture/*.jpg'):\n",
    "    os.remove(f)"
   ]
  },
  {
   "cell_type": "code",
   "execution_count": 14,
   "id": "00206cac",
   "metadata": {},
   "outputs": [],
   "source": [
    "# Setting default text\n",
    "passibility = \"Passibility\"\n",
    "color = (255, 255, 255)"
   ]
  },
  {
   "cell_type": "markdown",
   "id": "28c03894",
   "metadata": {},
   "source": [
    "### Run"
   ]
  },
  {
   "cell_type": "code",
   "execution_count": null,
   "id": "b2e958e8",
   "metadata": {
    "scrolled": true
   },
   "outputs": [],
   "source": [
    "L = []  # For counting impassible road\n",
    "while(True):\n",
    "    camera, frame = cap.read()\n",
    "\n",
    "    # # frame resize\n",
    "    # resize_frame = cv2.resize(frame, (250, 250), interpolation=cv2.INTER_AREA)\n",
    "\n",
    "    # frame crop & resize\n",
    "    resize_frame = cv2.resize(frame[:, 420:1500], (250, 250), interpolation=cv2.INTER_AREA)\n",
    "\n",
    "    if resize_frame is not None:\n",
    "        \n",
    "        # Capture 5 images per 1 second\n",
    "        if (int(cap.get(1)) % 5 == 0):\n",
    "            # Save image as 001 ~ 005.jpg\n",
    "            filename = f'{str(len(os.listdir(\"capture\"))%5 + 1).zfill(3)}.jpg'\n",
    "            cv2.imwrite(f'capture/{filename}', resize_frame)\n",
    "            \n",
    "            # Get text from image (per 5 seconds)\n",
    "            if (int(cap.get(1)) % 125 == 0):  # 5 * fps\n",
    "                if get_text(f'capture/{filename}'):\n",
    "                    alert_speed_limit(get_text(f'capture/{filename}'))\n",
    "                                        \n",
    "        if len(os.listdir('capture')) >= 5:\n",
    "            pred = predict_road(model)\n",
    "\n",
    "            if np.all(pred == 1):\n",
    "                passibility = \"Passible\"\n",
    "                color = (255, 0, 0)\n",
    "            elif np.all(pred == 0):\n",
    "                passibility = \"Impassible\"\n",
    "                color = (0, 0, 255)\n",
    "                L.append(np.all(pred == 0))  # Append 1 if all of predictions 0\n",
    "                \n",
    "            for f in glob('capture/*.jpg'):\n",
    "                os.remove(f)\n",
    "                \n",
    "        cv2.putText(resize_frame, passibility, (50, 100), cv2.FONT_HERSHEY_SIMPLEX, 1, color, 2)\n",
    "        cv2.imshow(\"Frame\", resize_frame)\n",
    "\n",
    "    # Detect impassible road more than 5 times -> sound()\n",
    "    if L.count(1) > 4:\n",
    "        sound()\n",
    "        break\n",
    "    \n",
    "    # To finish program(close windows), press q                     \n",
    "    q = cv2.waitKey(1)\n",
    "    if q == ord(\"q\"):\n",
    "        break\n",
    "cv2.destroyAllWindows()"
   ]
  }
 ],
 "metadata": {
  "kernelspec": {
   "display_name": "Python 3 (ipykernel)",
   "language": "python",
   "name": "python3"
  },
  "language_info": {
   "codemirror_mode": {
    "name": "ipython",
    "version": 3
   },
   "file_extension": ".py",
   "mimetype": "text/x-python",
   "name": "python",
   "nbconvert_exporter": "python",
   "pygments_lexer": "ipython3",
   "version": "3.9.13"
  },
  "toc": {
   "base_numbering": 1,
   "nav_menu": {
    "height": "81.6562px",
    "width": "160px"
   },
   "number_sections": false,
   "sideBar": true,
   "skip_h1_title": false,
   "title_cell": "Table of Contents",
   "title_sidebar": "Contents",
   "toc_cell": false,
   "toc_position": {
    "height": "429.333px",
    "left": "40px",
    "top": "110.229px",
    "width": "212px"
   },
   "toc_section_display": true,
   "toc_window_display": false
  }
 },
 "nbformat": 4,
 "nbformat_minor": 5
}

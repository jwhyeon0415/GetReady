{
 "cells": [
  {
   "cell_type": "code",
   "execution_count": 1,
   "id": "4fb7d16d",
   "metadata": {},
   "outputs": [
    {
     "name": "stdout",
     "output_type": "stream",
     "text": [
      "C:\\Users\\G.oneH\\Multicampus\\FinalProject\\yolo_cam\n"
     ]
    }
   ],
   "source": [
    "# %cd yolo_cam\n",
    "%cd C:\\Users\\G.oneH\\Multicampus\\FinalProject\\yolo_cam"
   ]
  },
  {
   "cell_type": "code",
   "execution_count": 2,
   "id": "cf4d8ff3",
   "metadata": {},
   "outputs": [],
   "source": [
    "import cv2\n",
    "import numpy as np\n",
    "import pandas as pd\n",
    "\n",
    "import os\n",
    "\n",
    "from tensorflow.keras.preprocessing import image"
   ]
  },
  {
   "cell_type": "code",
   "execution_count": 3,
   "id": "a2a86d36",
   "metadata": {},
   "outputs": [],
   "source": [
    "net = cv2.dnn.readNet(\"yolov4-obj_1000.weights\", \"yolov4-obj.cfg\")"
   ]
  },
  {
   "cell_type": "code",
   "execution_count": 4,
   "id": "e5daa553",
   "metadata": {
    "scrolled": true
   },
   "outputs": [],
   "source": [
    "classes = []\n",
    "with open(\"obj.names\", \"r\") as f:\n",
    "    classes = [line.strip() for line in f.readlines()]\n",
    "layer_names = net.getLayerNames()\n",
    "output_layers = [layer_names[i - 1] for i in net.getUnconnectedOutLayers()]\n",
    "colors = np.random.uniform(0, 255, size=(len(classes), 3))"
   ]
  },
  {
   "cell_type": "code",
   "execution_count": 5,
   "id": "cacc6fd4",
   "metadata": {},
   "outputs": [],
   "source": [
    "url = \"http://192.168.0.4:8080/video\"\n",
    "cap = cv2.VideoCapture(url)\n",
    "\n",
    "fps = cap.get(cv2.CAP_PROP_FPS)"
   ]
  },
  {
   "cell_type": "code",
   "execution_count": 6,
   "id": "0a848c0b",
   "metadata": {
    "cell_style": "center",
    "scrolled": true
   },
   "outputs": [
    {
     "name": "stdout",
     "output_type": "stream",
     "text": [
      "Helmet detected!!\n"
     ]
    }
   ],
   "source": [
    "cv2.namedWindow('camera_screenshot', cv2.WINDOW_AUTOSIZE)\n",
    "color = (255, 255, 255)\n",
    "\n",
    "while True:\n",
    "    camera, frame = cap.read()\n",
    "    \n",
    "    if not camera:\n",
    "        print(\"Can't read camera\")\n",
    "        break\n",
    "        \n",
    "    frame = cv2.rotate(frame, cv2.ROTATE_90_COUNTERCLOCKWISE)\n",
    "    h = (frame.shape[0] - frame.shape[1]) // 2\n",
    "    resize_frame = cv2.resize(frame[h:-h, :], dsize=(0, 0), fx=0.5, fy=0.5)    \n",
    "    \n",
    "    if int(cap.get(1) % 5 == 0):\n",
    "        cv2.imwrite('face.jpg', resize_frame)\n",
    "        \n",
    "        img = cv2.imread('face.jpg')\n",
    "        height, width, channels = img.shape\n",
    "        blob = cv2.dnn.blobFromImage(img, 0.00392, (250, 250), (0, 0, 0), True, crop=False)\n",
    "        net.setInput(blob)\n",
    "        outs = net.forward(output_layers)\n",
    "        \n",
    "        class_ids = []\n",
    "        for out in outs:\n",
    "            for detection in out:\n",
    "                scores = detection[5:]\n",
    "                class_id = np.argmax(scores)\n",
    "                confidence = scores[class_id]\n",
    "                if confidence > 0.5:\n",
    "                    class_ids.append(class_id)\n",
    "\n",
    "        if class_ids.count(0) >= 1:\n",
    "            print('Helmet detected!!')\n",
    "            break\n",
    "        else:\n",
    "            cv2.putText(resize_frame, 'Please wear a helmet..', (50, 100), cv2.FONT_HERSHEY_SIMPLEX, 1, color, 2)\n",
    "            cv2.imshow(\"camera_screenshot\", resize_frame)\n",
    "    \n",
    "    cv2.putText(resize_frame, 'Please wear a helmet..', (50, 100), cv2.FONT_HERSHEY_SIMPLEX, 1, color, 2)\n",
    "    cv2.imshow(\"camera_screenshot\", resize_frame)\n",
    "    \n",
    "    # 강제종료 q 키\n",
    "    if cv2.waitKey(1) == ord('q'):\n",
    "        break\n",
    "        \n",
    "        \n",
    "cv2.destroyAllWindows()"
   ]
  }
 ],
 "metadata": {
  "kernelspec": {
   "display_name": "Python 3 (ipykernel)",
   "language": "python",
   "name": "python3"
  },
  "language_info": {
   "codemirror_mode": {
    "name": "ipython",
    "version": 3
   },
   "file_extension": ".py",
   "mimetype": "text/x-python",
   "name": "python",
   "nbconvert_exporter": "python",
   "pygments_lexer": "ipython3",
   "version": "3.9.13"
  },
  "toc": {
   "base_numbering": 1,
   "nav_menu": {},
   "number_sections": true,
   "sideBar": true,
   "skip_h1_title": false,
   "title_cell": "Table of Contents",
   "title_sidebar": "Contents",
   "toc_cell": false,
   "toc_position": {},
   "toc_section_display": true,
   "toc_window_display": false
  }
 },
 "nbformat": 4,
 "nbformat_minor": 5
}

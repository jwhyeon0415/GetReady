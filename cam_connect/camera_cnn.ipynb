{
 "cells": [
  {
   "cell_type": "code",
   "execution_count": 1,
   "id": "c7c45640",
   "metadata": {},
   "outputs": [],
   "source": [
    "from tensorflow.keras.models import load_model\n",
    "model = load_model('Input your model')"
   ]
  },
  {
   "cell_type": "code",
   "execution_count": null,
   "id": "5666e731",
   "metadata": {},
   "outputs": [],
   "source": [
    "from IPython.display import Audio \n",
    "from IPython.core.display import display\n",
    "def sound():\n",
    "    display(Audio('alarm-no3.mp3', autoplay=True))\n",
    "# sound()"
   ]
  },
  {
   "cell_type": "code",
   "execution_count": null,
   "id": "95f16ba1",
   "metadata": {
    "cell_style": "center",
    "collapsed": true
   },
   "outputs": [],
   "source": [
    "import os\n",
    "import cv2\n",
    "import numpy as np\n",
    "import pandas as pd\n",
    "from glob import glob\n",
    "from tensorflow.keras.preprocessing.image import ImageDataGenerator\n",
    "\n",
    "url = \"IP Webcam address/video\"\n",
    "cap = cv2.VideoCapture(url)\n",
    "\n",
    "fps = cap.get(cv2.CAP_PROP_FPS)  # fps = 25.0\n",
    "\n",
    "for f in glob('capture/*.jpg'):\n",
    "    os.remove(f)\n",
    "\n",
    "L = []  # For counting impassible road\n",
    "while(True):\n",
    "    camera, frame = cap.read()\n",
    "\n",
    "    # # frame resize\n",
    "    # resize_frame = cv2.resize(frame, (250, 250), interpolation=cv2.INTER_AREA)\n",
    "\n",
    "    # frame crop & resize\n",
    "    resize_frame = cv2.resize(frame[:, 420:1500], (250, 250), interpolation=cv2.INTER_AREA)\n",
    "\n",
    "    if resize_frame is not None:\n",
    "        \n",
    "        # Capture 5 images per 1 second\n",
    "        if (int(cap.get(1)) % 5 == 0):\n",
    "            # Save image as 001 ~ 005.jpg\n",
    "            filename = f'{str(len(os.listdir(\"capture\"))%5 + 1).zfill(3)}.jpg'\n",
    "            cv2.imwrite(f'capture/{filename}', resize_frame)\n",
    "            \n",
    "        if len(os.listdir('capture')) >= 5:\n",
    "            \n",
    "            df = pd.DataFrame({'image_path': glob('capture/*.jpg')})\n",
    "            \n",
    "            test_datagen = ImageDataGenerator(rescale=1/255.)\n",
    "            test_generator = test_datagen.flow_from_dataframe(\n",
    "                df,\n",
    "                x_col='image_path',\n",
    "                y_col='None',\n",
    "                target_size=(250, 250),\n",
    "                class_mode=None,\n",
    "                shuffle=False\n",
    "            )    \n",
    "            \n",
    "            pred = model.predict_generator(test_generator)\n",
    "            pred = np.argmax(pred, axis=-1)\n",
    "\n",
    "            if np.all(pred == 1):\n",
    "                cv2.putText(resize_frame, f\"Passible\", (50, 100), cv2.FONT_HERSHEY_SIMPLEX, 1, (255, 0, 0), 2)\n",
    "            elif np.all(pred == 0):\n",
    "                cv2.putText(resize_frame, \"Imassible\", (50, 100), cv2.FONT_HERSHEY_SIMPLEX, 1, (0, 0, 255), 2)\n",
    "                L.append(np.all(pred == 0))  # Append 1 if all of predictions 0\n",
    "                \n",
    "            for f in glob('capture/*.jpg'):\n",
    "                os.remove(f)\n",
    "                \n",
    "        cv2.imshow(\"Frame\", resize_frame)\n",
    "\n",
    "    # Detect impassible road more than 3 times -> sound()\n",
    "    if L.count(1) > 2:\n",
    "        sound()\n",
    "        break\n",
    "    \n",
    "    # To finish program(close windows), press q                     \n",
    "    q = cv2.waitKey(1)\n",
    "    if q == ord(\"q\"):\n",
    "        break\n",
    "cv2.destroyAllWindows()"
   ]
  }
 ],
 "metadata": {
  "kernelspec": {
   "display_name": "Python 3 (ipykernel)",
   "language": "python",
   "name": "python3"
  },
  "language_info": {
   "codemirror_mode": {
    "name": "ipython",
    "version": 3
   },
   "file_extension": ".py",
   "mimetype": "text/x-python",
   "name": "python",
   "nbconvert_exporter": "python",
   "pygments_lexer": "ipython3",
   "version": "3.9.13"
  },
  "toc": {
   "base_numbering": 1,
   "nav_menu": {},
   "number_sections": true,
   "sideBar": true,
   "skip_h1_title": false,
   "title_cell": "Table of Contents",
   "title_sidebar": "Contents",
   "toc_cell": false,
   "toc_position": {},
   "toc_section_display": true,
   "toc_window_display": false
  }
 },
 "nbformat": 4,
 "nbformat_minor": 5
}
